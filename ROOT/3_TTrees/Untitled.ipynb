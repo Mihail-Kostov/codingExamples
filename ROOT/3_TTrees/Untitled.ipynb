{
 "cells": [
  {
   "cell_type": "code",
   "execution_count": 9,
   "metadata": {
    "collapsed": true
   },
   "outputs": [],
   "source": [
    "%matplotlib inline\n",
    "import os, sys, json, ROOT\n",
    "import numpy as np\n",
    "import pandas as pd\n",
    "import root_numpy as rnp\n",
    "import matplotlib.pyplot as plt\n",
    "from collections import OrderedDict as OD\n",
    "from ipywidgets import interact, interactive, fixed, widgets\n",
    "from NotebookUtils.ProgressBar import LogProgress as LP\n",
    "plt.rcParams['font.family']='serif'\n",
    "plt.rcParams['font.weight']='light'\n",
    "plt.rcParams['font.size']=14\n",
    "figsize = (12,6)"
   ]
  },
  {
   "cell_type": "code",
   "execution_count": 22,
   "metadata": {
    "collapsed": false
   },
   "outputs": [
    {
     "name": "stdout",
     "output_type": "stream",
     "text": [
      "9.0\n",
      "3.0\n",
      "8.0\n",
      "6.0\n",
      "2.0\n",
      "9.0\n",
      "7.0\n",
      "4.0\n",
      "5.0\n",
      "1.0\n",
      "3.0\n",
      "1.0\n",
      "9.0\n",
      "7.0\n",
      "8.0\n",
      "7.0\n",
      "5.0\n",
      "10.0\n",
      "8.0\n",
      "10.0\n",
      "6.0\n",
      "10.0\n",
      "1.0\n",
      "4.0\n",
      "6.0\n",
      "7.0\n",
      "2.0\n",
      "4.0\n",
      "4.0\n",
      "1.0\n",
      "7.0\n",
      "2.0\n",
      "10.0\n",
      "6.0\n",
      "7.0\n",
      "3.0\n",
      "3.0\n",
      "2.0\n",
      "6.0\n",
      "8.0\n",
      "9.0\n",
      "4.0\n",
      "4.0\n",
      "7.0\n",
      "1.0\n",
      "5.0\n",
      "10.0\n",
      "10.0\n",
      "5.0\n",
      "8.0\n"
     ]
    }
   ],
   "source": [
    "fRoot = ROOT.TFile('OutTree.root',\"READ\")\n",
    "tree = fRoot.Tree\n",
    "\n",
    "# tree.GetEntry(0)\n",
    "# v = tree.Hit_PulseHeight_U\n",
    "# print v[1]\n",
    "\n",
    "\n",
    "\n",
    "for evNum in range(tree.GetEntries()):\n",
    "    tree.GetEntry(evNum)\n",
    "    v = tree.Hit_PulseHeight_V\n",
    "    for i in v:\n",
    "        print i\n",
    "#     print tree.TrackLength\n",
    "#     print tree.Hit_PulseHeight_V"
   ]
  },
  {
   "cell_type": "code",
   "execution_count": null,
   "metadata": {
    "collapsed": true
   },
   "outputs": [],
   "source": []
  }
 ],
 "metadata": {
  "kernelspec": {
   "display_name": "Python 2",
   "language": "python",
   "name": "python2"
  },
  "language_info": {
   "codemirror_mode": {
    "name": "ipython",
    "version": 2
   },
   "file_extension": ".py",
   "mimetype": "text/x-python",
   "name": "python",
   "nbconvert_exporter": "python",
   "pygments_lexer": "ipython2",
   "version": "2.7.10"
  }
 },
 "nbformat": 4,
 "nbformat_minor": 0
}
