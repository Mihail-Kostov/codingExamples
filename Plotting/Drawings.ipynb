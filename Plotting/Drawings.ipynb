{
 "cells": [
  {
   "cell_type": "code",
   "execution_count": 2,
   "metadata": {
    "collapsed": true
   },
   "outputs": [],
   "source": [
    "%matplotlib inline\n",
    "import os, sys, json, pickle\n",
    "import numpy as np\n",
    "import pandas as pd\n",
    "import matplotlib.pyplot as plt\n",
    "from collections import OrderedDict as OD\n",
    "from NotebookUtils.ProgressBar import LogProgress as LP\n",
    "plt.rcParams['font.family']='serif'\n",
    "plt.rcParams['font.weight']='light'\n",
    "plt.rcParams['font.size']=14\n",
    "figsize = (12,8)"
   ]
  },
  {
   "cell_type": "code",
   "execution_count": 17,
   "metadata": {
    "collapsed": false
   },
   "outputs": [
    {
     "data": {
      "image/png": "[encoded data removed]",
      "text/plain": [
       "<matplotlib.figure.Figure at 0x114ae6250>"
      ]
     },
     "metadata": {},
     "output_type": "display_data"
    }
   ],
   "source": [
    "bnb = [[190,190+120],[2,2]]\n",
    "hsn = [[190,190+160],[1,1]]\n",
    "hsn_short = [[310,310+40],[0,0]]\n",
    "\n",
    "fig = plt.figure(figsize=figsize)\n",
    "plt.plot(bnb[0],bnb[1],lw=10,label='BNB')\n",
    "plt.plot(hsn[0],hsn[1],lw=10,label='HSN')\n",
    "plt.plot(hsn_short[0],hsn_short[1],lw=10,label='HSN_short')\n",
    "plt.legend(loc='best')\n",
    "plt.ylim(-2,4)\n",
    "ax=plt.gca()\n",
    "ax.axes.get_yaxis().set_visible(False)\n",
    "plt.xlabel('Time ticks')\n",
    "plt.show()"
   ]
  },
  {
   "cell_type": "code",
   "execution_count": null,
   "metadata": {
    "collapsed": true
   },
   "outputs": [],
   "source": []
  }
 ],
 "metadata": {
  "kernelspec": {
   "display_name": "Python 2",
   "language": "python",
   "name": "python2"
  },
  "language_info": {
   "codemirror_mode": {
    "name": "ipython",
    "version": 2
   },
   "file_extension": ".py",
   "mimetype": "text/x-python",
   "name": "python",
   "nbconvert_exporter": "python",
   "pygments_lexer": "ipython2",
   "version": "2.7.10"
  }
 },
 "nbformat": 4,
 "nbformat_minor": 0
}
