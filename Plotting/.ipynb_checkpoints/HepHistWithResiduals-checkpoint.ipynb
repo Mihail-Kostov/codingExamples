{
 "cells": [
  {
   "cell_type": "code",
   "execution_count": 18,
   "metadata": {
    "collapsed": true
   },
   "outputs": [],
   "source": [
    "%matplotlib inline\n",
    "import numpy as np\n",
    "import matplotlib.pyplot as plt\n",
    "from collections import OrderedDict as OD\n",
    "from scipy.stats.distributions import chi2\n",
    "plt.rcParams['font.family']='serif'\n",
    "plt.rcParams['font.weight']='light'\n",
    "plt.rcParams['font.size']=14\n",
    "figsize = (12,8)\n",
    "\n",
    "def HepHist(bins,hist,yerr,xtrim=False,color='blue',label='',norm=False,fill=False,alpha=0.1):\n",
    "    ls = '-'\n",
    "    lw = 2\n",
    "    plt.rcParams['hatch.color'] = color\n",
    "\n",
    "    bin_edges = [b for b in bins]; bin_edges.append(bin_edges[-1]+bin_edges[-1]-bin_edges[-2])\n",
    "    bin_edges = np.array(bin_edges)\n",
    "    bin_center = [(bin_edges[i] + bin_edges[i+1])/2. for i in range(len(bin_edges)-1)]\n",
    "    xerr = (bin_center[1]-bin_center[0])/2.\n",
    "    plt.step(bin_edges[:-1],hist,where='post',color=color,linestyle=ls,lw=lw,label=label)\n",
    "    plt.errorbar(bin_center,hist,xerr=xerr,fmt='.',color=color,lw=lw)\n",
    "    plt.errorbar(bin_center,hist,yerr=yerr,fmt='.',color=color,lw=lw,capsize=3,elinewidth=1)\n",
    "    if fill:      \n",
    "        xfill = []\n",
    "        yfill = []\n",
    "        for x in bin_edges:\n",
    "            xfill.append(x)\n",
    "            xfill.append(x)\n",
    "        for y in hist:\n",
    "            yfill.append(y)\n",
    "            yfill.append(y)    \n",
    "        xfill = xfill[1:-1]\n",
    "        plt.fill_between(xfill,0,yfill,facecolor=color,alpha=alpha,lw=0)\n",
    "    plt.plot([bin_edges[0],bin_edges[0]],[0,hist[0]],color=color,ls=ls,lw=lw)\n",
    "    plt.plot([bin_edges[-1],bin_edges[-1]],[0,hist[-1]],color=color,ls=ls,lw=lw)\n",
    "    if xtrim: xlims = [bin_edges[0],bin_edges[-1]]; plt.xlim(xlims)\n",
    "    if hist.max() > plt.gca().get_ylim()[1]*0.9: plt.gca().set_ylim(top=hist.max()*1.1)\n",
    "    plt.gca().set_ylim(bottom=0)\n",
    "    plt.grid(ls='--')\n",
    "\n",
    "def Hist(data,nbins,xlims):\n",
    "    hist, bin_edges = np.histogram(data,bins=nbins,range=xlims)\n",
    "    bin_center = [(bin_edges[i] + bin_edges[i+1])/2. for i in range(len(bin_edges)-1)]\n",
    "    yerr = np.sqrt(hist)\n",
    "    return bin_edges[:-1], hist, yerr\n",
    "    \n",
    "def DifferencePlot(values1,values2,part,branch,xlims,title,xlabel):\n",
    "    b1,h1,e1 = Hist(values1,nbins=50,xlims=xlims)\n",
    "    b2,h2,e2 = Hist(values2,nbins=50,xlims=xlims)\n",
    "\n",
    "    # Calculate residuals\n",
    "    res = h2-h1\n",
    "    eres = np.sqrt(np.power(e1,2.) + np.power(e2,2.))\n",
    "    chi = 0\n",
    "    nbins = 0\n",
    "    for n,d in zip(res,h2):\n",
    "        if d > 20:\n",
    "            chi += np.power(n,2.)/float(d)\n",
    "            nbins += 1\n",
    "    redchi = chi/float(nbins-1)\n",
    "    pval = chi2.sf(chi,nbins-1)\n",
    "\n",
    "    # Make plots\n",
    "    fig,ax = plt.subplots(nrows=2, ncols=1, sharex=True, gridspec_kw={'height_ratios': [2, 1]}, figsize=figsize)\n",
    "    plt.suptitle(title)\n",
    "\n",
    "    plt.sca(ax[0])\n",
    "    HepHist(b1,h1,e1,color='C0',label='GSL_RNG',xtrim=True,fill=True)\n",
    "    HepHist(b2,h2,e2,color='C3',label='CLHEP_RNG',xtrim=True,fill=True)\n",
    "    plt.legend(loc='best')\n",
    "\n",
    "    plt.sca(ax[1])\n",
    "    HepHist(b1,res,eres,color='C2',label='Difference',xtrim=True,fill=True)\n",
    "    plt.plot(0,0,lw=0,color='black',label=r' $\\chi^2$/d.o.f.: %.2f' %(redchi))\n",
    "    plt.axhline(0,ls='-',color='black')\n",
    "    plt.legend(loc='upper right')\n",
    "    ylim = max(abs(res))*2\n",
    "    plt.ylim(-ylim,ylim)\n",
    "\n",
    "    plt.tight_layout(rect=[0, 0, 1, 0.92])\n",
    "    plt.xlabel(xlabel)\n",
    "    plt.show()"
   ]
  },
  {
   "cell_type": "code",
   "execution_count": 19,
   "metadata": {
    "collapsed": false
   },
   "outputs": [],
   "source": [
    "sigDistance = np.random.normal(loc=50,scale=10,size=500)\n",
    "bkgDistance = np.random.normal(loc=51,scale=12,size=500)\n",
    "nbins = 50\n",
    "xlims = [0,100]\n",
    "\n",
    "DifferencePlot(sigDistance,bkgDistance,1,'x',xlims,'Title','x [cm]')"
   ]
  },
  {
   "cell_type": "code",
   "execution_count": null,
   "metadata": {
    "collapsed": true
   },
   "outputs": [],
   "source": []
  }
 ],
 "metadata": {
  "kernelspec": {
   "display_name": "Python 2",
   "language": "python",
   "name": "python2"
  },
  "language_info": {
   "codemirror_mode": {
    "name": "ipython",
    "version": 2
   },
   "file_extension": ".py",
   "mimetype": "text/x-python",
   "name": "python",
   "nbconvert_exporter": "python",
   "pygments_lexer": "ipython2",
   "version": "2.7.10"
  }
 },
 "nbformat": 4,
 "nbformat_minor": 0
}
