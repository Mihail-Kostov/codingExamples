{
 "cells": [
  {
   "cell_type": "code",
   "execution_count": 2,
   "metadata": {
    "collapsed": true
   },
   "outputs": [],
   "source": [
    "%matplotlib inline\n",
    "import numpy as np\n",
    "import matplotlib.pyplot as plt\n",
    "plt.rcParams['font.family']='serif'\n",
    "plt.rcParams['font.weight']='light'\n",
    "plt.rcParams['font.size']=14\n",
    "figsize = (12,8)\n",
    "\n",
    "def hepHist(data,nbins,xlims,xtrim=False,color='blue',label='',norm=False,fill=False,alpha=0.1):\n",
    "    ls = '-'\n",
    "    lw = 2\n",
    "    plt.rcParams['hatch.color'] = color\n",
    "    hist, bin_edges = np.histogram(data,bins=nbins,range=xlims)\n",
    "    bin_center = [(bin_edges[i] + bin_edges[i+1])/2. for i in range(len(bin_edges)-1)]\n",
    "    xerr = (bin_center[1]-bin_center[0])/2.\n",
    "    yerr = np.sqrt(hist)\n",
    "    if norm:\n",
    "        normFactor = float(np.sum(hist))\n",
    "        hist = hist/normFactor\n",
    "        yerr = yerr/normFactor\n",
    "    plt.step(bin_edges[:-1],hist,where='post',color=color,linestyle=ls,lw=lw,label=label)\n",
    "    plt.errorbar(bin_center,hist,xerr=xerr,fmt='.',color=color,lw=lw)\n",
    "    plt.errorbar(bin_center,hist,yerr=yerr,fmt='.',color=color,lw=lw,capsize=3,elinewidth=1)\n",
    "    if fill:      \n",
    "        xfill = []\n",
    "        yfill = []\n",
    "        for x in bin_edges:\n",
    "            xfill.append(x)\n",
    "            xfill.append(x)\n",
    "        for y in hist:\n",
    "            yfill.append(y)\n",
    "            yfill.append(y)    \n",
    "        xfill = xfill[1:-1]\n",
    "        plt.fill_between(xfill,0,yfill,facecolor=color,alpha=alpha,lw=0)\n",
    "    plt.plot([bin_edges[0],bin_edges[0]],[0,hist[0]],color=color,ls=ls,lw=lw)\n",
    "    plt.plot([bin_edges[-1],bin_edges[-1]],[0,hist[-1]],color=color,ls=ls,lw=lw)\n",
    "    if xtrim: plt.xlim(xlims)\n",
    "    if hist.max() > plt.gca().get_ylim()[1]*0.9: plt.gca().set_ylim(top=hist.max()*1.1)\n",
    "    plt.gca().set_ylim(bottom=0)\n",
    "    plt.grid(ls='--')"
   ]
  },
  {
   "cell_type": "code",
   "execution_count": null,
   "metadata": {
    "collapsed": true
   },
   "outputs": [],
   "source": [
    "sigData = \n",
    "\n",
    "fig = plt.figure(figsize=figsize)\n",
    "hepHist(sigDistance,nbins,xlims,xtrim=True,norm=True,color='blue',label=r'$N \\rightarrow e \\pi$',fill=True,alpha=alpha)\n",
    "hepHist(bkgDistance,nbins,xlims,xtrim=True,norm=True,color='red',label='BNB',fill=True,alpha=alpha)\n",
    "plt.title('Track-Shower distances')\n",
    "plt.xlabel('Distance [cm]')\n",
    "plt.legend()\n",
    "plt.draw()"
   ]
  }
 ],
 "metadata": {
  "kernelspec": {
   "display_name": "Python 2",
   "language": "python",
   "name": "python2"
  },
  "language_info": {
   "codemirror_mode": {
    "name": "ipython",
    "version": 2
   },
   "file_extension": ".py",
   "mimetype": "text/x-python",
   "name": "python",
   "nbconvert_exporter": "python",
   "pygments_lexer": "ipython2",
   "version": "2.7.10"
  }
 },
 "nbformat": 4,
 "nbformat_minor": 0
}
