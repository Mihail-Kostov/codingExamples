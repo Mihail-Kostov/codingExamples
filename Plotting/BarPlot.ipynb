{
 "cells": [
  {
   "cell_type": "code",
   "execution_count": 22,
   "metadata": {
    "collapsed": false
   },
   "outputs": [],
   "source": [
    "%matplotlib inline\n",
    "import numpy as np\n",
    "import matplotlib.pyplot as plt\n",
    "plt.rcParams['font.family']='serif'\n",
    "plt.rcParams['font.weight']='light'\n",
    "plt.rcParams['font.size']=14\n",
    "figsize = (12,8)\n",
    "\n",
    "def BarPlot(data,xLabels,norm=1):\n",
    "    fig = plt.figure(figsize=figsize)\n",
    "    xInd = np.linspace(0,len(data)-1,len(data))\n",
    "    dataErr = np.sqrt(np.array(data))/float(norm)\n",
    "    data = np.array(data)/float(norm)\n",
    "    plt.bar(xInd,data,yerr=dataErr)\n",
    "    plt.xticks(xInd, xLabels)\n",
    "\n",
    "    ax = plt.gca()\n",
    "    rects = ax.patches\n",
    "    labels = [\"%.2g\" %(val) for val in data]\n",
    "    for rect, label in zip(rects, labels):\n",
    "        height = rect.get_height()\n",
    "        ax.text(rect.get_x() + rect.get_width()/2, height/2., label, ha='center', va='center',color='white')\n",
    "        "
   ]
  },
  {
   "cell_type": "code",
   "execution_count": 23,
   "metadata": {
    "collapsed": false
   },
   "outputs": [
    {
     "data": {
      "image/png": "[encoded data removed]",
      "text/plain": [
       "<matplotlib.figure.Figure at 0x111d9ba10>"
      ]
     },
     "metadata": {},
     "output_type": "display_data"
    }
   ],
   "source": [
    "data  = [340,531,23,236,98]\n",
    "xLabels = ['Data1','Data2','Data3','Data4','Data5']\n",
    "norm = np.array(data).sum()\n",
    "\n",
    "BarPlot(data,xLabels,norm)\n",
    "plt.show()"
   ]
  },
  {
   "cell_type": "code",
   "execution_count": null,
   "metadata": {
    "collapsed": true
   },
   "outputs": [],
   "source": []
  }
 ],
 "metadata": {
  "kernelspec": {
   "display_name": "Python 2",
   "language": "python",
   "name": "python2"
  },
  "language_info": {
   "codemirror_mode": {
    "name": "ipython",
    "version": 2
   },
   "file_extension": ".py",
   "mimetype": "text/x-python",
   "name": "python",
   "nbconvert_exporter": "python",
   "pygments_lexer": "ipython2",
   "version": "2.7.10"
  }
 },
 "nbformat": 4,
 "nbformat_minor": 0
}
